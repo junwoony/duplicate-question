{
 "cells": [
  {
   "cell_type": "code",
   "execution_count": 158,
   "metadata": {},
   "outputs": [],
   "source": [
    "# Import libriries\n",
    "import numpy as np\n",
    "import pandas as pd\n",
    "import tensorflow as tf\n",
    "import matplotlib.pyplot as plt"
   ]
  },
  {
   "cell_type": "code",
   "execution_count": 78,
   "metadata": {},
   "outputs": [],
   "source": [
    "# Export Training Data and dropout NaN rows\n",
    "df = pd.read_csv('questions.csv')\n",
    "df = df.dropna()"
   ]
  },
  {
   "cell_type": "code",
   "execution_count": 103,
   "metadata": {},
   "outputs": [
    {
     "data": {
      "text/plain": [
       "123126"
      ]
     },
     "execution_count": 103,
     "metadata": {},
     "output_type": "execute_result"
    }
   ],
   "source": [
    "# Data Processing\n",
    "# 1) Take unique words from questions\n",
    "results = set()\n",
    "df['question1'].str.lower().str.split().apply(results.update)\n",
    "df['question2'].str.lower().str.split().apply(results.update)\n",
    "# Now results is a bag of unique words\n",
    "# 2) Store indices of unique words\n",
    "idx2word = dict(enumerate(results))\n",
    "word2idx = {word: idx for idx, word in idx2word.items()}\n"
   ]
  },
  {
   "cell_type": "code",
   "execution_count": 101,
   "metadata": {},
   "outputs": [],
   "source": [
    "# Encode questions to index\n",
    "def encode_question(question):\n",
    "    words = question.split()\n",
    "    encoded = []\n",
    "    for word in words:\n",
    "        encoded.append([word2idx[word]])\n",
    "    return encoded \n",
    "\n",
    "df['enc_question1'] = df.question1.str.lower().apply(encode_question)\n",
    "df['enc_question2'] = df.question2.str.lower().apply(encode_question)"
   ]
  },
  {
   "cell_type": "code",
   "execution_count": 246,
   "metadata": {},
   "outputs": [
    {
     "name": "stdout",
     "output_type": "stream",
     "text": [
      "Number of training set : 404348.000000\n",
      "Ratio of Duplicate Questions Pair : 36.925124%\n",
      "Total number of questions: 789795 \n"
     ]
    },
    {
     "data": {
      "text/plain": [
       "65333     50\n",
       "7863      47\n",
       "147324    41\n",
       "2628      28\n",
       "196396    26\n",
       "26304     26\n",
       "42170     25\n",
       "9605      21\n",
       "173838    21\n",
       "131907    20\n",
       "3066      19\n",
       "1341      18\n",
       "255644    17\n",
       "139217    17\n",
       "129881    17\n",
       "205101    17\n",
       "11823     16\n",
       "10190     16\n",
       "1600      16\n",
       "244412    16\n",
       "4915      15\n",
       "102152    15\n",
       "3353      15\n",
       "131542    14\n",
       "2380      14\n",
       "7881      14\n",
       "534194    14\n",
       "50788     14\n",
       "1243      13\n",
       "300071    13\n",
       "          ..\n",
       "85882      1\n",
       "87929      1\n",
       "89976      1\n",
       "75639      1\n",
       "77686      1\n",
       "79733      1\n",
       "448393     1\n",
       "446346     1\n",
       "444299     1\n",
       "458636     1\n",
       "419743     1\n",
       "421790     1\n",
       "423837     1\n",
       "425884     1\n",
       "411547     1\n",
       "413594     1\n",
       "415641     1\n",
       "417688     1\n",
       "403351     1\n",
       "405398     1\n",
       "407445     1\n",
       "409492     1\n",
       "395155     1\n",
       "397202     1\n",
       "399249     1\n",
       "401296     1\n",
       "452495     1\n",
       "454542     1\n",
       "456589     1\n",
       "2049       1\n",
       "Length: 789795, dtype: int64"
      ]
     },
     "execution_count": 246,
     "metadata": {},
     "output_type": "execute_result"
    }
   ],
   "source": [
    "# Data Statistics\n",
    "print(\"Number of training set : %f\" % len(df))\n",
    "print(\"Ratio of Duplicate Questions Pair : %f%%\" %float(df['is_duplicate'].mean()*100))\n",
    "qids = pd.concat([df['qid1'],df['qid2']])\n",
    "print(\"Total number of questions: %d \" %len(np.unique(qids)))\n",
    "# Number of appearance of questions\n",
    "qids.value_counts()\n"
   ]
  },
  {
   "cell_type": "code",
   "execution_count": null,
   "metadata": {},
   "outputs": [],
   "source": []
  }
 ],
 "metadata": {
  "kernelspec": {
   "display_name": "Python [conda env:GASpy_conda]",
   "language": "python",
   "name": "conda-env-GASpy_conda-py"
  },
  "language_info": {
   "codemirror_mode": {
    "name": "ipython",
    "version": 2
   },
   "file_extension": ".py",
   "mimetype": "text/x-python",
   "name": "python",
   "nbconvert_exporter": "python",
   "pygments_lexer": "ipython2",
   "version": "2.7.13"
  }
 },
 "nbformat": 4,
 "nbformat_minor": 2
}
